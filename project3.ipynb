{
 "cells": [
  {
   "cell_type": "code",
   "execution_count": 2,
   "metadata": {},
   "outputs": [
    {
     "name": "stdout",
     "output_type": "stream",
     "text": [
      "Temperature: 28.37°C\n",
      "Humidity: 69%\n",
      "Description: scattered clouds\n"
     ]
    }
   ],
   "source": [
    "import requests\n",
    "import json\n",
    "\n",
    "def fetch_weather(city):\n",
    "    api_key = \"0ef272c613ed1ccba46f951502e43265\"  # Replace with your actual API key\n",
    "    base_url = \"https://api.openweathermap.org/data/2.5/weather\"\n",
    "    params = {\"q\": city, \"appid\": api_key, \"units\": \"metric\"}\n",
    "\n",
    "    response = requests.get(base_url, params=params)\n",
    "    data = json.loads(response.text)\n",
    "    \n",
    "    if data[\"cod\"] == \"404\":\n",
    "        print(\"City not found.\")\n",
    "        return None\n",
    "\n",
    "    weather = {\n",
    "        \"temperature\": data[\"main\"][\"temp\"],\n",
    "        \"humidity\": data[\"main\"][\"humidity\"],\n",
    "        \"description\": data[\"weather\"][0][\"description\"],\n",
    "    }\n",
    "\n",
    "    return weather\n",
    "\n",
    "def display_weather(weather):\n",
    "    print(f\"Temperature: {weather['temperature']}°C\")\n",
    "    print(f\"Humidity: {weather['humidity']}%\")\n",
    "    print(f\"Description: {weather['description']}\")\n",
    "\n",
    "def main():\n",
    "    city = input(\"Enter a city name: \")\n",
    "    weather = fetch_weather(city)\n",
    "    if weather:\n",
    "        display_weather(weather)\n",
    "\n",
    "if __name__ == \"__main__\":\n",
    "    main()\n"
   ]
  },
  {
   "cell_type": "code",
   "execution_count": 6,
   "metadata": {},
   "outputs": [
    {
     "name": "stdout",
     "output_type": "stream",
     "text": [
      "City: Irving\n",
      "State: texas\n",
      "Temperature: 33.39°c\n",
      "Humidity: 53%\n",
      "Description: clear sky\n"
     ]
    }
   ],
   "source": [
    "import requests\n",
    "import json\n",
    "\n",
    "def fetch_weather(city, state):\n",
    "    api_key = \"0ef272c613ed1ccba46f951502e43265\"  # Replace with your actual API key\n",
    "    base_url = \"https://api.openweathermap.org/data/2.5/weather\"\n",
    "    params = {\"q\": f\"{city},{state}\", \"appid\": api_key, \"units\": \"metric\"}\n",
    "\n",
    "    response = requests.get(base_url, params=params)\n",
    "    data = json.loads(response.text)\n",
    "    \n",
    "    if data[\"cod\"] == \"404\":\n",
    "        print(\"City not found.\")\n",
    "        return None\n",
    "\n",
    "    weather = {\n",
    "        \"city\": data[\"name\"],\n",
    "        \"state\": state,\n",
    "        \"temperature\": data[\"main\"][\"temp\"],\n",
    "        \"humidity\": data[\"main\"][\"humidity\"],\n",
    "        \"description\": data[\"weather\"][0][\"description\"],\n",
    "    }\n",
    "\n",
    "    return weather\n",
    "\n",
    "def display_weather(weather):\n",
    "    print(f\"City: {weather['city']}\")\n",
    "    print(f\"State: {weather['state']}\")\n",
    "    print(f\"Temperature: {weather['temperature']}°c\")\n",
    "    print(f\"Humidity: {weather['humidity']}%\")\n",
    "    print(f\"Description: {weather['description']}\")\n",
    "\n",
    "def main():\n",
    "    city = input(\"Enter a city name: \")\n",
    "    state = input(\"Enter the state: \")\n",
    "    weather = fetch_weather(city, state)\n",
    "    if weather:\n",
    "        display_weather(weather)\n",
    "\n",
    "if __name__ == \"__main__\":\n",
    "    main()\n"
   ]
  },
  {
   "cell_type": "code",
   "execution_count": 8,
   "metadata": {},
   "outputs": [
    {
     "name": "stdout",
     "output_type": "stream",
     "text": [
      "City: Hyderabad\n",
      "State: telangana\n",
      "Temperature: 84.61°F\n",
      "Humidity: 61%\n",
      "Description: haze\n"
     ]
    }
   ],
   "source": [
    "import requests\n",
    "import json\n",
    "\n",
    "def fetch_weather(city, state):\n",
    "    api_key = \"0ef272c613ed1ccba46f951502e43265\" \n",
    "    base_url = \"https://api.openweathermap.org/data/2.5/weather\"\n",
    "    params = {\"q\": f\"{city},{state}\", \"appid\": api_key, \"units\": \"imperial\"}  # Request temperature in Fahrenheit\n",
    "\n",
    "    response = requests.get(base_url, params=params)\n",
    "    data = json.loads(response.text)\n",
    "    \n",
    "    if data[\"cod\"] == \"404\":\n",
    "        print(\"City not found.\")\n",
    "        return None\n",
    "\n",
    "    weather = {\n",
    "        \"city\": data[\"name\"],\n",
    "        \"state\": state,\n",
    "        \"temperature\": data[\"main\"][\"temp\"],\n",
    "        \"humidity\": data[\"main\"][\"humidity\"],\n",
    "        \"description\": data[\"weather\"][0][\"description\"],\n",
    "    }\n",
    "\n",
    "    return weather\n",
    "\n",
    "def display_weather(weather):\n",
    "    print(f\"City: {weather['city']}\")\n",
    "    print(f\"State: {weather['state']}\")\n",
    "    print(f\"Temperature: {weather['temperature']}°F\")  # Display temperature in Fahrenheit\n",
    "    print(f\"Humidity: {weather['humidity']}%\")\n",
    "    print(f\"Description: {weather['description']}\")\n",
    "\n",
    "def main():\n",
    "    city = input(\"Enter a city name: \")\n",
    "    state = input(\"Enter the state: \")\n",
    "    weather = fetch_weather(city, state)\n",
    "    if weather:\n",
    "        display_weather(weather)\n",
    "\n",
    "if __name__ == \"__main__\":\n",
    "    main()\n"
   ]
  }
 ],
 "metadata": {
  "kernelspec": {
   "display_name": "Python 3",
   "language": "python",
   "name": "python3"
  },
  "language_info": {
   "codemirror_mode": {
    "name": "ipython",
    "version": 3
   },
   "file_extension": ".py",
   "mimetype": "text/x-python",
   "name": "python",
   "nbconvert_exporter": "python",
   "pygments_lexer": "ipython3",
   "version": "3.10.8"
  },
  "orig_nbformat": 4
 },
 "nbformat": 4,
 "nbformat_minor": 2
}
